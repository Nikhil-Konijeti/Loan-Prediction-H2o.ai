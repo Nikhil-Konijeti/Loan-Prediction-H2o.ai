{
 "cells": [
  {
   "cell_type": "code",
   "execution_count": null,
   "metadata": {},
   "outputs": [
    {
     "name": "stdout",
     "output_type": "stream",
     "text": [
      "Checking whether there is an H2O instance running at http://localhost:54323. connected.\n"
     ]
    },
    {
     "data": {
      "text/html": [
       "<div style=\"overflow:auto\"><table style=\"width:50%\"><tr><td>H2O cluster uptime:</td>\n",
       "<td>3 mins 32 secs</td></tr>\n",
       "<tr><td>H2O cluster timezone:</td>\n",
       "<td>Asia/Kolkata</td></tr>\n",
       "<tr><td>H2O data parsing timezone:</td>\n",
       "<td>UTC</td></tr>\n",
       "<tr><td>H2O cluster version:</td>\n",
       "<td>3.20.0.8</td></tr>\n",
       "<tr><td>H2O cluster version age:</td>\n",
       "<td>13 days </td></tr>\n",
       "<tr><td>H2O cluster name:</td>\n",
       "<td>H2O_from_python_nikhilkonijeti_2dv561</td></tr>\n",
       "<tr><td>H2O cluster total nodes:</td>\n",
       "<td>1</td></tr>\n",
       "<tr><td>H2O cluster free memory:</td>\n",
       "<td>697 Mb</td></tr>\n",
       "<tr><td>H2O cluster total cores:</td>\n",
       "<td>4</td></tr>\n",
       "<tr><td>H2O cluster allowed cores:</td>\n",
       "<td>4</td></tr>\n",
       "<tr><td>H2O cluster status:</td>\n",
       "<td>locked, healthy</td></tr>\n",
       "<tr><td>H2O connection url:</td>\n",
       "<td>http://localhost:54323</td></tr>\n",
       "<tr><td>H2O connection proxy:</td>\n",
       "<td>None</td></tr>\n",
       "<tr><td>H2O internal security:</td>\n",
       "<td>False</td></tr>\n",
       "<tr><td>H2O API Extensions:</td>\n",
       "<td>XGBoost, Algos, AutoML, Core V3, Core V4</td></tr>\n",
       "<tr><td>Python version:</td>\n",
       "<td>2.7.14 final</td></tr></table></div>"
      ],
      "text/plain": [
       "--------------------------  ----------------------------------------\n",
       "H2O cluster uptime:         3 mins 32 secs\n",
       "H2O cluster timezone:       Asia/Kolkata\n",
       "H2O data parsing timezone:  UTC\n",
       "H2O cluster version:        3.20.0.8\n",
       "H2O cluster version age:    13 days\n",
       "H2O cluster name:           H2O_from_python_nikhilkonijeti_2dv561\n",
       "H2O cluster total nodes:    1\n",
       "H2O cluster free memory:    697 Mb\n",
       "H2O cluster total cores:    4\n",
       "H2O cluster allowed cores:  4\n",
       "H2O cluster status:         locked, healthy\n",
       "H2O connection url:         http://localhost:54323\n",
       "H2O connection proxy:\n",
       "H2O internal security:      False\n",
       "H2O API Extensions:         XGBoost, Algos, AutoML, Core V3, Core V4\n",
       "Python version:             2.7.14 final\n",
       "--------------------------  ----------------------------------------"
      ]
     },
     "metadata": {},
     "output_type": "display_data"
    },
    {
     "name": "stdout",
     "output_type": "stream",
     "text": [
      "Parse progress: |█████████████████████████████████████████████████████████| 100%\n",
      "Parse progress: |█████████████████████████████████████████████████████████| 100%\n",
      "Rows:614\n",
      "Cols:13\n",
      "\n",
      "\n"
     ]
    },
    {
     "data": {
      "text/html": [
       "<table>\n",
       "<thead>\n",
       "<tr><th>       </th><th>Loan_ID  </th><th>Gender  </th><th>Married  </th><th>Dependents    </th><th>Education   </th><th>Self_Employed  </th><th>ApplicantIncome  </th><th>CoapplicantIncome  </th><th>LoanAmount   </th><th>Loan_Amount_Term  </th><th>Credit_History  </th><th>Property_Area  </th><th>Loan_Status  </th></tr>\n",
       "</thead>\n",
       "<tbody>\n",
       "<tr><td>type   </td><td>string   </td><td>enum    </td><td>enum     </td><td>int           </td><td>enum        </td><td>enum           </td><td>int              </td><td>real               </td><td>int          </td><td>int               </td><td>int             </td><td>enum           </td><td>enum         </td></tr>\n",
       "<tr><td>mins   </td><td>NaN      </td><td>        </td><td>         </td><td>0.0           </td><td>            </td><td>               </td><td>150.0            </td><td>0.0                </td><td>9.0          </td><td>12.0              </td><td>0.0             </td><td>               </td><td>             </td></tr>\n",
       "<tr><td>mean   </td><td>NaN      </td><td>        </td><td>         </td><td>0.554744525547</td><td>            </td><td>               </td><td>5403.45928339    </td><td>1621.24579803      </td><td>146.412162162</td><td>342.0             </td><td>0.84219858156   </td><td>               </td><td>             </td></tr>\n",
       "<tr><td>maxs   </td><td>NaN      </td><td>        </td><td>         </td><td>2.0           </td><td>            </td><td>               </td><td>81000.0          </td><td>41667.0            </td><td>700.0        </td><td>480.0             </td><td>1.0             </td><td>               </td><td>             </td></tr>\n",
       "<tr><td>sigma  </td><td>NaN      </td><td>        </td><td>         </td><td>0.785328986167</td><td>            </td><td>               </td><td>6109.04167339    </td><td>2926.24836922      </td><td>85.5873252357</td><td>65.1204098546     </td><td>0.364878319236  </td><td>               </td><td>             </td></tr>\n",
       "<tr><td>zeros  </td><td>0        </td><td>        </td><td>         </td><td>345           </td><td>            </td><td>               </td><td>0                </td><td>273                </td><td>0            </td><td>0                 </td><td>89              </td><td>               </td><td>             </td></tr>\n",
       "<tr><td>missing</td><td>0        </td><td>13      </td><td>3        </td><td>66            </td><td>0           </td><td>32             </td><td>0                </td><td>0                  </td><td>22           </td><td>14                </td><td>50              </td><td>0              </td><td>0            </td></tr>\n",
       "<tr><td>0      </td><td>LP001002 </td><td>Male    </td><td>No       </td><td>0.0           </td><td>Graduate    </td><td>No             </td><td>5849.0           </td><td>0.0                </td><td>nan          </td><td>360.0             </td><td>1.0             </td><td>Urban          </td><td>Y            </td></tr>\n",
       "<tr><td>1      </td><td>LP001003 </td><td>Male    </td><td>Yes      </td><td>1.0           </td><td>Graduate    </td><td>No             </td><td>4583.0           </td><td>1508.0             </td><td>128.0        </td><td>360.0             </td><td>1.0             </td><td>Rural          </td><td>N            </td></tr>\n",
       "<tr><td>2      </td><td>LP001005 </td><td>Male    </td><td>Yes      </td><td>0.0           </td><td>Graduate    </td><td>Yes            </td><td>3000.0           </td><td>0.0                </td><td>66.0         </td><td>360.0             </td><td>1.0             </td><td>Urban          </td><td>Y            </td></tr>\n",
       "<tr><td>3      </td><td>LP001006 </td><td>Male    </td><td>Yes      </td><td>0.0           </td><td>Not Graduate</td><td>No             </td><td>2583.0           </td><td>2358.0             </td><td>120.0        </td><td>360.0             </td><td>1.0             </td><td>Urban          </td><td>Y            </td></tr>\n",
       "<tr><td>4      </td><td>LP001008 </td><td>Male    </td><td>No       </td><td>0.0           </td><td>Graduate    </td><td>No             </td><td>6000.0           </td><td>0.0                </td><td>141.0        </td><td>360.0             </td><td>1.0             </td><td>Urban          </td><td>Y            </td></tr>\n",
       "<tr><td>5      </td><td>LP001011 </td><td>Male    </td><td>Yes      </td><td>2.0           </td><td>Graduate    </td><td>Yes            </td><td>5417.0           </td><td>4196.0             </td><td>267.0        </td><td>360.0             </td><td>1.0             </td><td>Urban          </td><td>Y            </td></tr>\n",
       "<tr><td>6      </td><td>LP001013 </td><td>Male    </td><td>Yes      </td><td>0.0           </td><td>Not Graduate</td><td>No             </td><td>2333.0           </td><td>1516.0             </td><td>95.0         </td><td>360.0             </td><td>1.0             </td><td>Urban          </td><td>Y            </td></tr>\n",
       "<tr><td>7      </td><td>LP001014 </td><td>Male    </td><td>Yes      </td><td>nan           </td><td>Graduate    </td><td>No             </td><td>3036.0           </td><td>2504.0             </td><td>158.0        </td><td>360.0             </td><td>0.0             </td><td>Semiurban      </td><td>N            </td></tr>\n",
       "<tr><td>8      </td><td>LP001018 </td><td>Male    </td><td>Yes      </td><td>2.0           </td><td>Graduate    </td><td>No             </td><td>4006.0           </td><td>1526.0             </td><td>168.0        </td><td>360.0             </td><td>1.0             </td><td>Urban          </td><td>Y            </td></tr>\n",
       "<tr><td>9      </td><td>LP001020 </td><td>Male    </td><td>Yes      </td><td>1.0           </td><td>Graduate    </td><td>No             </td><td>12841.0          </td><td>10968.0            </td><td>349.0        </td><td>360.0             </td><td>1.0             </td><td>Semiurban      </td><td>N            </td></tr>\n",
       "</tbody>\n",
       "</table>"
      ]
     },
     "metadata": {},
     "output_type": "display_data"
    },
    {
     "name": "stdout",
     "output_type": "stream",
     "text": [
      "AutoML progress: |██████████████████████████"
     ]
    }
   ],
   "source": [
    "import h2o\n",
    "from h2o.automl import H2OAutoML\n",
    "h2o.init(ip=\"localhost\", port=54323)\n",
    "\n",
    "df = h2o.import_file('train_u6lujuX_CVtuZ9i.csv')\n",
    "df.head()\n",
    "\n",
    "df1 = h2o.import_file('test_Y3wMUE5_7gLdaTN.csv')\n",
    "\n",
    "df.describe()\n",
    "\n",
    "df['Loan_Status'] = df['Loan_Status'].asfactor()\n",
    "\n",
    "y = \"Loan_Status\"\n",
    "x = ['Gender','Married','Education','ApplicantIncome',\n",
    "    'LoanAmount','CoapplicantIncome','Loan_Amount_Term',\n",
    "    'Credit_History','Property_Area']\n",
    "\n",
    "aml = H2OAutoML(max_models = 30, max_runtime_secs=120, seed = 1)\n",
    "aml.train(x = x, y = y, training_frame = df)\n",
    "\n",
    "lb = aml.leaderboard\n",
    "#lb.head()\n",
    "lb.head(rows=lb.nrows)\n",
    "\n",
    "preds = aml.predict(df1)\n",
    "\n",
    "h2o.save_model(aml.leader, path = \"./Loan_Pred_Model_III_shaz13\")"
   ]
  },
  {
   "cell_type": "code",
   "execution_count": null,
   "metadata": {},
   "outputs": [],
   "source": []
  }
 ],
 "metadata": {
  "kernelspec": {
   "display_name": "Python 2",
   "language": "python",
   "name": "python2"
  },
  "language_info": {
   "codemirror_mode": {
    "name": "ipython",
    "version": 2
   },
   "file_extension": ".py",
   "mimetype": "text/x-python",
   "name": "python",
   "nbconvert_exporter": "python",
   "pygments_lexer": "ipython2",
   "version": "2.7.14"
  }
 },
 "nbformat": 4,
 "nbformat_minor": 2
}
