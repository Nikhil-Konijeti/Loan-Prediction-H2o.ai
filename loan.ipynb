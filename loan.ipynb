{
 "cells": [
  {
   "cell_type": "code",
   "execution_count": 1,
   "metadata": {},
   "outputs": [
    {
     "name": "stdout",
     "output_type": "stream",
     "text": [
      "Checking whether there is an H2O instance running at http://localhost:54323..... not found.\n",
      "Attempting to start a local H2O server...\n",
      "  Java Version: openjdk version \"1.8.0_121\"; OpenJDK Runtime Environment (Zulu 8.20.0.5-linux64) (build 1.8.0_121-b15); OpenJDK 64-Bit Server VM (Zulu 8.20.0.5-linux64) (build 25.121-b15, mixed mode)\n",
      "  Starting server from /home/nikhilkonijeti/anaconda3/envs/py35/lib/python2.7/site-packages/h2o/backend/bin/h2o.jar\n",
      "  Ice root: /tmp/tmppRvpME\n",
      "  JVM stdout: /tmp/tmppRvpME/h2o_nikhilkonijeti_started_from_python.out\n",
      "  JVM stderr: /tmp/tmppRvpME/h2o_nikhilkonijeti_started_from_python.err\n",
      "  Server is running at http://127.0.0.1:54323\n",
      "Connecting to H2O server at http://127.0.0.1:54323... successful.\n"
     ]
    },
    {
     "data": {
      "text/html": [
       "<div style=\"overflow:auto\"><table style=\"width:50%\"><tr><td>H2O cluster uptime:</td>\n",
       "<td>04 secs</td></tr>\n",
       "<tr><td>H2O cluster timezone:</td>\n",
       "<td>Asia/Kolkata</td></tr>\n",
       "<tr><td>H2O data parsing timezone:</td>\n",
       "<td>UTC</td></tr>\n",
       "<tr><td>H2O cluster version:</td>\n",
       "<td>3.20.0.8</td></tr>\n",
       "<tr><td>H2O cluster version age:</td>\n",
       "<td>12 days </td></tr>\n",
       "<tr><td>H2O cluster name:</td>\n",
       "<td>H2O_from_python_nikhilkonijeti_jz0j4b</td></tr>\n",
       "<tr><td>H2O cluster total nodes:</td>\n",
       "<td>1</td></tr>\n",
       "<tr><td>H2O cluster free memory:</td>\n",
       "<td>859 Mb</td></tr>\n",
       "<tr><td>H2O cluster total cores:</td>\n",
       "<td>4</td></tr>\n",
       "<tr><td>H2O cluster allowed cores:</td>\n",
       "<td>4</td></tr>\n",
       "<tr><td>H2O cluster status:</td>\n",
       "<td>accepting new members, healthy</td></tr>\n",
       "<tr><td>H2O connection url:</td>\n",
       "<td>http://127.0.0.1:54323</td></tr>\n",
       "<tr><td>H2O connection proxy:</td>\n",
       "<td>None</td></tr>\n",
       "<tr><td>H2O internal security:</td>\n",
       "<td>False</td></tr>\n",
       "<tr><td>H2O API Extensions:</td>\n",
       "<td>XGBoost, Algos, AutoML, Core V3, Core V4</td></tr>\n",
       "<tr><td>Python version:</td>\n",
       "<td>2.7.14 final</td></tr></table></div>"
      ],
      "text/plain": [
       "--------------------------  ----------------------------------------\n",
       "H2O cluster uptime:         04 secs\n",
       "H2O cluster timezone:       Asia/Kolkata\n",
       "H2O data parsing timezone:  UTC\n",
       "H2O cluster version:        3.20.0.8\n",
       "H2O cluster version age:    12 days\n",
       "H2O cluster name:           H2O_from_python_nikhilkonijeti_jz0j4b\n",
       "H2O cluster total nodes:    1\n",
       "H2O cluster free memory:    859 Mb\n",
       "H2O cluster total cores:    4\n",
       "H2O cluster allowed cores:  4\n",
       "H2O cluster status:         accepting new members, healthy\n",
       "H2O connection url:         http://127.0.0.1:54323\n",
       "H2O connection proxy:\n",
       "H2O internal security:      False\n",
       "H2O API Extensions:         XGBoost, Algos, AutoML, Core V3, Core V4\n",
       "Python version:             2.7.14 final\n",
       "--------------------------  ----------------------------------------"
      ]
     },
     "metadata": {},
     "output_type": "display_data"
    },
    {
     "name": "stdout",
     "output_type": "stream",
     "text": [
      "Parse progress: |█████████████████████████████████████████████████████████| 100%\n",
      "Parse progress: |█████████████████████████████████████████████████████████| 100%\n",
      "Rows:614\n",
      "Cols:13\n",
      "\n",
      "\n"
     ]
    },
    {
     "data": {
      "text/html": [
       "<table>\n",
       "<thead>\n",
       "<tr><th>       </th><th>Loan_ID  </th><th>Gender  </th><th>Married  </th><th>Dependents    </th><th>Education   </th><th>Self_Employed  </th><th>ApplicantIncome  </th><th>CoapplicantIncome  </th><th>LoanAmount   </th><th>Loan_Amount_Term  </th><th>Credit_History  </th><th>Property_Area  </th><th>Loan_Status  </th></tr>\n",
       "</thead>\n",
       "<tbody>\n",
       "<tr><td>type   </td><td>string   </td><td>enum    </td><td>enum     </td><td>int           </td><td>enum        </td><td>enum           </td><td>int              </td><td>real               </td><td>int          </td><td>int               </td><td>int             </td><td>enum           </td><td>enum         </td></tr>\n",
       "<tr><td>mins   </td><td>NaN      </td><td>        </td><td>         </td><td>0.0           </td><td>            </td><td>               </td><td>150.0            </td><td>0.0                </td><td>9.0          </td><td>12.0              </td><td>0.0             </td><td>               </td><td>             </td></tr>\n",
       "<tr><td>mean   </td><td>NaN      </td><td>        </td><td>         </td><td>0.554744525547</td><td>            </td><td>               </td><td>5403.45928339    </td><td>1621.24579803      </td><td>146.412162162</td><td>342.0             </td><td>0.84219858156   </td><td>               </td><td>             </td></tr>\n",
       "<tr><td>maxs   </td><td>NaN      </td><td>        </td><td>         </td><td>2.0           </td><td>            </td><td>               </td><td>81000.0          </td><td>41667.0            </td><td>700.0        </td><td>480.0             </td><td>1.0             </td><td>               </td><td>             </td></tr>\n",
       "<tr><td>sigma  </td><td>NaN      </td><td>        </td><td>         </td><td>0.785328986167</td><td>            </td><td>               </td><td>6109.04167339    </td><td>2926.24836922      </td><td>85.5873252357</td><td>65.1204098546     </td><td>0.364878319236  </td><td>               </td><td>             </td></tr>\n",
       "<tr><td>zeros  </td><td>0        </td><td>        </td><td>         </td><td>345           </td><td>            </td><td>               </td><td>0                </td><td>273                </td><td>0            </td><td>0                 </td><td>89              </td><td>               </td><td>             </td></tr>\n",
       "<tr><td>missing</td><td>0        </td><td>13      </td><td>3        </td><td>66            </td><td>0           </td><td>32             </td><td>0                </td><td>0                  </td><td>22           </td><td>14                </td><td>50              </td><td>0              </td><td>0            </td></tr>\n",
       "<tr><td>0      </td><td>LP001002 </td><td>Male    </td><td>No       </td><td>0.0           </td><td>Graduate    </td><td>No             </td><td>5849.0           </td><td>0.0                </td><td>nan          </td><td>360.0             </td><td>1.0             </td><td>Urban          </td><td>Y            </td></tr>\n",
       "<tr><td>1      </td><td>LP001003 </td><td>Male    </td><td>Yes      </td><td>1.0           </td><td>Graduate    </td><td>No             </td><td>4583.0           </td><td>1508.0             </td><td>128.0        </td><td>360.0             </td><td>1.0             </td><td>Rural          </td><td>N            </td></tr>\n",
       "<tr><td>2      </td><td>LP001005 </td><td>Male    </td><td>Yes      </td><td>0.0           </td><td>Graduate    </td><td>Yes            </td><td>3000.0           </td><td>0.0                </td><td>66.0         </td><td>360.0             </td><td>1.0             </td><td>Urban          </td><td>Y            </td></tr>\n",
       "<tr><td>3      </td><td>LP001006 </td><td>Male    </td><td>Yes      </td><td>0.0           </td><td>Not Graduate</td><td>No             </td><td>2583.0           </td><td>2358.0             </td><td>120.0        </td><td>360.0             </td><td>1.0             </td><td>Urban          </td><td>Y            </td></tr>\n",
       "<tr><td>4      </td><td>LP001008 </td><td>Male    </td><td>No       </td><td>0.0           </td><td>Graduate    </td><td>No             </td><td>6000.0           </td><td>0.0                </td><td>141.0        </td><td>360.0             </td><td>1.0             </td><td>Urban          </td><td>Y            </td></tr>\n",
       "<tr><td>5      </td><td>LP001011 </td><td>Male    </td><td>Yes      </td><td>2.0           </td><td>Graduate    </td><td>Yes            </td><td>5417.0           </td><td>4196.0             </td><td>267.0        </td><td>360.0             </td><td>1.0             </td><td>Urban          </td><td>Y            </td></tr>\n",
       "<tr><td>6      </td><td>LP001013 </td><td>Male    </td><td>Yes      </td><td>0.0           </td><td>Not Graduate</td><td>No             </td><td>2333.0           </td><td>1516.0             </td><td>95.0         </td><td>360.0             </td><td>1.0             </td><td>Urban          </td><td>Y            </td></tr>\n",
       "<tr><td>7      </td><td>LP001014 </td><td>Male    </td><td>Yes      </td><td>nan           </td><td>Graduate    </td><td>No             </td><td>3036.0           </td><td>2504.0             </td><td>158.0        </td><td>360.0             </td><td>0.0             </td><td>Semiurban      </td><td>N            </td></tr>\n",
       "<tr><td>8      </td><td>LP001018 </td><td>Male    </td><td>Yes      </td><td>2.0           </td><td>Graduate    </td><td>No             </td><td>4006.0           </td><td>1526.0             </td><td>168.0        </td><td>360.0             </td><td>1.0             </td><td>Urban          </td><td>Y            </td></tr>\n",
       "<tr><td>9      </td><td>LP001020 </td><td>Male    </td><td>Yes      </td><td>1.0           </td><td>Graduate    </td><td>No             </td><td>12841.0          </td><td>10968.0            </td><td>349.0        </td><td>360.0             </td><td>1.0             </td><td>Semiurban      </td><td>N            </td></tr>\n",
       "</tbody>\n",
       "</table>"
      ]
     },
     "metadata": {},
     "output_type": "display_data"
    },
    {
     "name": "stdout",
     "output_type": "stream",
     "text": [
      "AutoML progress: |████████████████████████████████████████████████████████| 100%\n",
      "gbm prediction progress: |████████████████████████████████████████████████| 100%\n"
     ]
    },
    {
     "data": {
      "text/plain": [
       "u'/home/nikhilkonijeti/Desktop/Proj/LoanPrediction H2o.ai/Loan_Pred_Model_III_shaz13/GBM_grid_0_AutoML_20181004_004554_model_11'"
      ]
     },
     "execution_count": 1,
     "metadata": {},
     "output_type": "execute_result"
    }
   ],
   "source": [
    "#!/usr/bin/env python2\n",
    "# -*- coding: utf-8 -*-\n",
    "\"\"\"\n",
    "Created on Wed Oct  3 19:19:42 2018\n",
    "\n",
    "@author: nikhilkonijeti\n",
    "\"\"\"\n",
    "\n",
    "import h2o\n",
    "from h2o.automl import H2OAutoML\n",
    "h2o.init(ip=\"localhost\", port=54323)\n",
    "\n",
    "df = h2o.import_file('train_u6lujuX_CVtuZ9i.csv')\n",
    "df.head()\n",
    "\n",
    "df1 = h2o.import_file('test_Y3wMUE5_7gLdaTN.csv')\n",
    "\n",
    "df.describe()\n",
    "\n",
    "df['Loan_Status'] = df['Loan_Status'].asfactor()\n",
    "\n",
    "y = \"Loan_Status\"\n",
    "x = ['Gender','Married','Education','ApplicantIncome',\n",
    "    'LoanAmount','CoapplicantIncome','Loan_Amount_Term',\n",
    "    'Credit_History','Property_Area']\n",
    "\n",
    "aml = H2OAutoML(max_models = 30, max_runtime_secs=120, seed = 1)\n",
    "aml.train(x = x, y = y, training_frame = df)\n",
    "\n",
    "lb = aml.leaderboard\n",
    "#lb.head()\n",
    "lb.head(rows=lb.nrows)\n",
    "\n",
    "preds = aml.predict(df1)\n",
    "\n",
    "h2o.save_model(aml.leader, path = \"./Loan_Pred_Model_III_shaz13\")"
   ]
  },
  {
   "cell_type": "code",
   "execution_count": 2,
   "metadata": {},
   "outputs": [
    {
     "data": {
      "text/html": [
       "<table>\n",
       "<thead>\n",
       "<tr><th>model_id                                             </th><th style=\"text-align: right;\">     auc</th><th style=\"text-align: right;\">  logloss</th><th style=\"text-align: right;\">  mean_per_class_error</th><th style=\"text-align: right;\">    rmse</th><th style=\"text-align: right;\">     mse</th></tr>\n",
       "</thead>\n",
       "<tbody>\n",
       "<tr><td>GBM_grid_0_AutoML_20181004_004554_model_11           </td><td style=\"text-align: right;\">0.774157</td><td style=\"text-align: right;\"> 0.472451</td><td style=\"text-align: right;\">              0.278178</td><td style=\"text-align: right;\">0.387693</td><td style=\"text-align: right;\">0.150306</td></tr>\n",
       "<tr><td>GBM_grid_0_AutoML_20181004_004554_model_7            </td><td style=\"text-align: right;\">0.772604</td><td style=\"text-align: right;\"> 0.469598</td><td style=\"text-align: right;\">              0.283256</td><td style=\"text-align: right;\">0.386241</td><td style=\"text-align: right;\">0.149182</td></tr>\n",
       "<tr><td>GBM_grid_0_AutoML_20181004_004554_model_2            </td><td style=\"text-align: right;\">0.771566</td><td style=\"text-align: right;\"> 0.487566</td><td style=\"text-align: right;\">              0.272747</td><td style=\"text-align: right;\">0.394494</td><td style=\"text-align: right;\">0.155625</td></tr>\n",
       "<tr><td>GBM_grid_0_AutoML_20181004_004554_model_3            </td><td style=\"text-align: right;\">0.769555</td><td style=\"text-align: right;\"> 0.489169</td><td style=\"text-align: right;\">              0.281446</td><td style=\"text-align: right;\">0.394291</td><td style=\"text-align: right;\">0.155465</td></tr>\n",
       "<tr><td>StackedEnsemble_BestOfFamily_0_AutoML_20181004_004554</td><td style=\"text-align: right;\">0.768612</td><td style=\"text-align: right;\"> 0.469999</td><td style=\"text-align: right;\">              0.27672 </td><td style=\"text-align: right;\">0.384766</td><td style=\"text-align: right;\">0.148045</td></tr>\n",
       "<tr><td>GBM_grid_0_AutoML_20181004_004554_model_1            </td><td style=\"text-align: right;\">0.768422</td><td style=\"text-align: right;\"> 0.488026</td><td style=\"text-align: right;\">              0.282904</td><td style=\"text-align: right;\">0.393912</td><td style=\"text-align: right;\">0.155167</td></tr>\n",
       "<tr><td>StackedEnsemble_AllModels_0_AutoML_20181004_004554   </td><td style=\"text-align: right;\">0.766621</td><td style=\"text-align: right;\"> 0.471178</td><td style=\"text-align: right;\">              0.27672 </td><td style=\"text-align: right;\">0.385622</td><td style=\"text-align: right;\">0.148704</td></tr>\n",
       "<tr><td>DeepLearning_0_AutoML_20181004_004554                </td><td style=\"text-align: right;\">0.765621</td><td style=\"text-align: right;\"> 0.507824</td><td style=\"text-align: right;\">              0.302864</td><td style=\"text-align: right;\">0.396019</td><td style=\"text-align: right;\">0.156831</td></tr>\n",
       "<tr><td>DRF_0_AutoML_20181004_004554                         </td><td style=\"text-align: right;\">0.764868</td><td style=\"text-align: right;\"> 1.45724 </td><td style=\"text-align: right;\">              0.308342</td><td style=\"text-align: right;\">0.407289</td><td style=\"text-align: right;\">0.165885</td></tr>\n",
       "<tr><td>GLM_grid_0_AutoML_20181004_004554_model_0            </td><td style=\"text-align: right;\">0.762686</td><td style=\"text-align: right;\"> 0.469032</td><td style=\"text-align: right;\">              0.27672 </td><td style=\"text-align: right;\">0.383747</td><td style=\"text-align: right;\">0.147262</td></tr>\n",
       "<tr><td>GBM_grid_0_AutoML_20181004_004554_model_0            </td><td style=\"text-align: right;\">0.760438</td><td style=\"text-align: right;\"> 0.509575</td><td style=\"text-align: right;\">              0.299596</td><td style=\"text-align: right;\">0.405126</td><td style=\"text-align: right;\">0.164127</td></tr>\n",
       "<tr><td>GBM_grid_0_AutoML_20181004_004554_model_9            </td><td style=\"text-align: right;\">0.746375</td><td style=\"text-align: right;\"> 0.514441</td><td style=\"text-align: right;\">              0.285066</td><td style=\"text-align: right;\">0.40793 </td><td style=\"text-align: right;\">0.166407</td></tr>\n",
       "<tr><td>XRT_0_AutoML_20181004_004554                         </td><td style=\"text-align: right;\">0.744803</td><td style=\"text-align: right;\"> 1.17269 </td><td style=\"text-align: right;\">              0.29527 </td><td style=\"text-align: right;\">0.411918</td><td style=\"text-align: right;\">0.169676</td></tr>\n",
       "<tr><td>GBM_grid_0_AutoML_20181004_004554_model_10           </td><td style=\"text-align: right;\">0.743135</td><td style=\"text-align: right;\"> 0.5784  </td><td style=\"text-align: right;\">              0.279988</td><td style=\"text-align: right;\">0.442484</td><td style=\"text-align: right;\">0.195792</td></tr>\n",
       "<tr><td>GBM_grid_0_AutoML_20181004_004554_model_6            </td><td style=\"text-align: right;\">0.69484 </td><td style=\"text-align: right;\"> 1.01257 </td><td style=\"text-align: right;\">              0.392557</td><td style=\"text-align: right;\">0.485918</td><td style=\"text-align: right;\">0.236116</td></tr>\n",
       "<tr><td>DeepLearning_grid_0_AutoML_20181004_004554_model_0   </td><td style=\"text-align: right;\">0.689161</td><td style=\"text-align: right;\"> 1.18967 </td><td style=\"text-align: right;\">              0.317441</td><td style=\"text-align: right;\">0.467849</td><td style=\"text-align: right;\">0.218883</td></tr>\n",
       "<tr><td>GBM_grid_0_AutoML_20181004_004554_model_5            </td><td style=\"text-align: right;\">0.625383</td><td style=\"text-align: right;\"> 0.610895</td><td style=\"text-align: right;\">              0.409249</td><td style=\"text-align: right;\">0.458592</td><td style=\"text-align: right;\">0.210307</td></tr>\n",
       "<tr><td>GBM_grid_0_AutoML_20181004_004554_model_4            </td><td style=\"text-align: right;\">0.547981</td><td style=\"text-align: right;\"> 0.617839</td><td style=\"text-align: right;\">              0.5     </td><td style=\"text-align: right;\">0.462029</td><td style=\"text-align: right;\">0.213471</td></tr>\n",
       "<tr><td>GBM_grid_0_AutoML_20181004_004554_model_8            </td><td style=\"text-align: right;\">0.445169</td><td style=\"text-align: right;\"> 0.620662</td><td style=\"text-align: right;\">              0.5     </td><td style=\"text-align: right;\">0.463144</td><td style=\"text-align: right;\">0.214502</td></tr>\n",
       "</tbody>\n",
       "</table>"
      ]
     },
     "metadata": {},
     "output_type": "display_data"
    },
    {
     "data": {
      "text/plain": []
     },
     "execution_count": 2,
     "metadata": {},
     "output_type": "execute_result"
    }
   ],
   "source": [
    "lb = aml.leaderboard\n",
    "#lb.head()\n",
    "lb.head(rows=lb.nrows)\n"
   ]
  },
  {
   "cell_type": "code",
   "execution_count": 4,
   "metadata": {},
   "outputs": [
    {
     "data": {
      "text/html": [
       "<table>\n",
       "<thead>\n",
       "<tr><th>predict  </th><th style=\"text-align: right;\">        N</th><th style=\"text-align: right;\">       Y</th></tr>\n",
       "</thead>\n",
       "<tbody>\n",
       "<tr><td>Y        </td><td style=\"text-align: right;\">0.198431 </td><td style=\"text-align: right;\">0.801569</td></tr>\n",
       "<tr><td>Y        </td><td style=\"text-align: right;\">0.347741 </td><td style=\"text-align: right;\">0.652259</td></tr>\n",
       "<tr><td>Y        </td><td style=\"text-align: right;\">0.148725 </td><td style=\"text-align: right;\">0.851275</td></tr>\n",
       "<tr><td>Y        </td><td style=\"text-align: right;\">0.0659689</td><td style=\"text-align: right;\">0.934031</td></tr>\n",
       "<tr><td>Y        </td><td style=\"text-align: right;\">0.239868 </td><td style=\"text-align: right;\">0.760132</td></tr>\n",
       "<tr><td>Y        </td><td style=\"text-align: right;\">0.233044 </td><td style=\"text-align: right;\">0.766956</td></tr>\n",
       "<tr><td>Y        </td><td style=\"text-align: right;\">0.159898 </td><td style=\"text-align: right;\">0.840102</td></tr>\n",
       "<tr><td>N        </td><td style=\"text-align: right;\">0.881122 </td><td style=\"text-align: right;\">0.118878</td></tr>\n",
       "<tr><td>Y        </td><td style=\"text-align: right;\">0.171684 </td><td style=\"text-align: right;\">0.828316</td></tr>\n",
       "<tr><td>Y        </td><td style=\"text-align: right;\">0.181798 </td><td style=\"text-align: right;\">0.818202</td></tr>\n",
       "</tbody>\n",
       "</table>"
      ]
     },
     "metadata": {},
     "output_type": "display_data"
    },
    {
     "data": {
      "text/plain": []
     },
     "execution_count": 4,
     "metadata": {},
     "output_type": "execute_result"
    }
   ],
   "source": [
    "preds"
   ]
  },
  {
   "cell_type": "code",
   "execution_count": 1,
   "metadata": {},
   "outputs": [
    {
     "name": "stdout",
     "output_type": "stream",
     "text": [
      "Checking whether there is an H2O instance running at http://localhost:54323..... not found.\n",
      "Attempting to start a local H2O server...\n",
      "  Java Version: openjdk version \"1.8.0_121\"; OpenJDK Runtime Environment (Zulu 8.20.0.5-linux64) (build 1.8.0_121-b15); OpenJDK 64-Bit Server VM (Zulu 8.20.0.5-linux64) (build 25.121-b15, mixed mode)\n",
      "  Starting server from /home/nikhilkonijeti/anaconda3/envs/py35/lib/python2.7/site-packages/h2o/backend/bin/h2o.jar\n",
      "  Ice root: /tmp/tmpMZkHXr\n",
      "  JVM stdout: /tmp/tmpMZkHXr/h2o_nikhilkonijeti_started_from_python.out\n",
      "  JVM stderr: /tmp/tmpMZkHXr/h2o_nikhilkonijeti_started_from_python.err\n",
      "  Server is running at http://127.0.0.1:54323\n",
      "Connecting to H2O server at http://127.0.0.1:54323... successful.\n"
     ]
    },
    {
     "data": {
      "text/html": [
       "<div style=\"overflow:auto\"><table style=\"width:50%\"><tr><td>H2O cluster uptime:</td>\n",
       "<td>01 secs</td></tr>\n",
       "<tr><td>H2O cluster timezone:</td>\n",
       "<td>Asia/Kolkata</td></tr>\n",
       "<tr><td>H2O data parsing timezone:</td>\n",
       "<td>UTC</td></tr>\n",
       "<tr><td>H2O cluster version:</td>\n",
       "<td>3.20.0.8</td></tr>\n",
       "<tr><td>H2O cluster version age:</td>\n",
       "<td>12 days </td></tr>\n",
       "<tr><td>H2O cluster name:</td>\n",
       "<td>H2O_from_python_nikhilkonijeti_mmmzr9</td></tr>\n",
       "<tr><td>H2O cluster total nodes:</td>\n",
       "<td>1</td></tr>\n",
       "<tr><td>H2O cluster free memory:</td>\n",
       "<td>859 Mb</td></tr>\n",
       "<tr><td>H2O cluster total cores:</td>\n",
       "<td>4</td></tr>\n",
       "<tr><td>H2O cluster allowed cores:</td>\n",
       "<td>4</td></tr>\n",
       "<tr><td>H2O cluster status:</td>\n",
       "<td>accepting new members, healthy</td></tr>\n",
       "<tr><td>H2O connection url:</td>\n",
       "<td>http://127.0.0.1:54323</td></tr>\n",
       "<tr><td>H2O connection proxy:</td>\n",
       "<td>None</td></tr>\n",
       "<tr><td>H2O internal security:</td>\n",
       "<td>False</td></tr>\n",
       "<tr><td>H2O API Extensions:</td>\n",
       "<td>XGBoost, Algos, AutoML, Core V3, Core V4</td></tr>\n",
       "<tr><td>Python version:</td>\n",
       "<td>2.7.14 final</td></tr></table></div>"
      ],
      "text/plain": [
       "--------------------------  ----------------------------------------\n",
       "H2O cluster uptime:         01 secs\n",
       "H2O cluster timezone:       Asia/Kolkata\n",
       "H2O data parsing timezone:  UTC\n",
       "H2O cluster version:        3.20.0.8\n",
       "H2O cluster version age:    12 days\n",
       "H2O cluster name:           H2O_from_python_nikhilkonijeti_mmmzr9\n",
       "H2O cluster total nodes:    1\n",
       "H2O cluster free memory:    859 Mb\n",
       "H2O cluster total cores:    4\n",
       "H2O cluster allowed cores:  4\n",
       "H2O cluster status:         accepting new members, healthy\n",
       "H2O connection url:         http://127.0.0.1:54323\n",
       "H2O connection proxy:\n",
       "H2O internal security:      False\n",
       "H2O API Extensions:         XGBoost, Algos, AutoML, Core V3, Core V4\n",
       "Python version:             2.7.14 final\n",
       "--------------------------  ----------------------------------------"
      ]
     },
     "metadata": {},
     "output_type": "display_data"
    },
    {
     "name": "stdout",
     "output_type": "stream",
     "text": [
      "Parse progress: |█████████████████████████████████████████████████████████| 100%\n",
      "Parse progress: |█████████████████████████████████████████████████████████| 100%\n",
      "Rows:614\n",
      "Cols:13\n",
      "\n",
      "\n"
     ]
    },
    {
     "data": {
      "text/html": [
       "<table>\n",
       "<thead>\n",
       "<tr><th>       </th><th>Loan_ID  </th><th>Gender  </th><th>Married  </th><th>Dependents    </th><th>Education   </th><th>Self_Employed  </th><th>ApplicantIncome  </th><th>CoapplicantIncome  </th><th>LoanAmount   </th><th>Loan_Amount_Term  </th><th>Credit_History  </th><th>Property_Area  </th><th>Loan_Status  </th></tr>\n",
       "</thead>\n",
       "<tbody>\n",
       "<tr><td>type   </td><td>string   </td><td>enum    </td><td>enum     </td><td>int           </td><td>enum        </td><td>enum           </td><td>int              </td><td>real               </td><td>int          </td><td>int               </td><td>int             </td><td>enum           </td><td>enum         </td></tr>\n",
       "<tr><td>mins   </td><td>NaN      </td><td>        </td><td>         </td><td>0.0           </td><td>            </td><td>               </td><td>150.0            </td><td>0.0                </td><td>9.0          </td><td>12.0              </td><td>0.0             </td><td>               </td><td>             </td></tr>\n",
       "<tr><td>mean   </td><td>NaN      </td><td>        </td><td>         </td><td>0.554744525547</td><td>            </td><td>               </td><td>5403.45928339    </td><td>1621.24579803      </td><td>146.412162162</td><td>342.0             </td><td>0.84219858156   </td><td>               </td><td>             </td></tr>\n",
       "<tr><td>maxs   </td><td>NaN      </td><td>        </td><td>         </td><td>2.0           </td><td>            </td><td>               </td><td>81000.0          </td><td>41667.0            </td><td>700.0        </td><td>480.0             </td><td>1.0             </td><td>               </td><td>             </td></tr>\n",
       "<tr><td>sigma  </td><td>NaN      </td><td>        </td><td>         </td><td>0.785328986167</td><td>            </td><td>               </td><td>6109.04167339    </td><td>2926.24836922      </td><td>85.5873252357</td><td>65.1204098546     </td><td>0.364878319236  </td><td>               </td><td>             </td></tr>\n",
       "<tr><td>zeros  </td><td>0        </td><td>        </td><td>         </td><td>345           </td><td>            </td><td>               </td><td>0                </td><td>273                </td><td>0            </td><td>0                 </td><td>89              </td><td>               </td><td>             </td></tr>\n",
       "<tr><td>missing</td><td>0        </td><td>13      </td><td>3        </td><td>66            </td><td>0           </td><td>32             </td><td>0                </td><td>0                  </td><td>22           </td><td>14                </td><td>50              </td><td>0              </td><td>0            </td></tr>\n",
       "<tr><td>0      </td><td>LP001002 </td><td>Male    </td><td>No       </td><td>0.0           </td><td>Graduate    </td><td>No             </td><td>5849.0           </td><td>0.0                </td><td>nan          </td><td>360.0             </td><td>1.0             </td><td>Urban          </td><td>Y            </td></tr>\n",
       "<tr><td>1      </td><td>LP001003 </td><td>Male    </td><td>Yes      </td><td>1.0           </td><td>Graduate    </td><td>No             </td><td>4583.0           </td><td>1508.0             </td><td>128.0        </td><td>360.0             </td><td>1.0             </td><td>Rural          </td><td>N            </td></tr>\n",
       "<tr><td>2      </td><td>LP001005 </td><td>Male    </td><td>Yes      </td><td>0.0           </td><td>Graduate    </td><td>Yes            </td><td>3000.0           </td><td>0.0                </td><td>66.0         </td><td>360.0             </td><td>1.0             </td><td>Urban          </td><td>Y            </td></tr>\n",
       "<tr><td>3      </td><td>LP001006 </td><td>Male    </td><td>Yes      </td><td>0.0           </td><td>Not Graduate</td><td>No             </td><td>2583.0           </td><td>2358.0             </td><td>120.0        </td><td>360.0             </td><td>1.0             </td><td>Urban          </td><td>Y            </td></tr>\n",
       "<tr><td>4      </td><td>LP001008 </td><td>Male    </td><td>No       </td><td>0.0           </td><td>Graduate    </td><td>No             </td><td>6000.0           </td><td>0.0                </td><td>141.0        </td><td>360.0             </td><td>1.0             </td><td>Urban          </td><td>Y            </td></tr>\n",
       "<tr><td>5      </td><td>LP001011 </td><td>Male    </td><td>Yes      </td><td>2.0           </td><td>Graduate    </td><td>Yes            </td><td>5417.0           </td><td>4196.0             </td><td>267.0        </td><td>360.0             </td><td>1.0             </td><td>Urban          </td><td>Y            </td></tr>\n",
       "<tr><td>6      </td><td>LP001013 </td><td>Male    </td><td>Yes      </td><td>0.0           </td><td>Not Graduate</td><td>No             </td><td>2333.0           </td><td>1516.0             </td><td>95.0         </td><td>360.0             </td><td>1.0             </td><td>Urban          </td><td>Y            </td></tr>\n",
       "<tr><td>7      </td><td>LP001014 </td><td>Male    </td><td>Yes      </td><td>nan           </td><td>Graduate    </td><td>No             </td><td>3036.0           </td><td>2504.0             </td><td>158.0        </td><td>360.0             </td><td>0.0             </td><td>Semiurban      </td><td>N            </td></tr>\n",
       "<tr><td>8      </td><td>LP001018 </td><td>Male    </td><td>Yes      </td><td>2.0           </td><td>Graduate    </td><td>No             </td><td>4006.0           </td><td>1526.0             </td><td>168.0        </td><td>360.0             </td><td>1.0             </td><td>Urban          </td><td>Y            </td></tr>\n",
       "<tr><td>9      </td><td>LP001020 </td><td>Male    </td><td>Yes      </td><td>1.0           </td><td>Graduate    </td><td>No             </td><td>12841.0          </td><td>10968.0            </td><td>349.0        </td><td>360.0             </td><td>1.0             </td><td>Semiurban      </td><td>N            </td></tr>\n",
       "</tbody>\n",
       "</table>"
      ]
     },
     "metadata": {},
     "output_type": "display_data"
    },
    {
     "name": "stdout",
     "output_type": "stream",
     "text": [
      "AutoML progress: |████████████████████████████████████████████████████████| 100%\n",
      "gbm prediction progress: |████████████████████████████████████████████████| 100%\n"
     ]
    },
    {
     "data": {
      "text/plain": [
       "u'/home/nikhilkonijeti/Desktop/Proj/LoanPrediction H2o.ai/Loan_Pred_Model_III_shaz13/GBM_grid_0_AutoML_20181004_005956_model_11'"
      ]
     },
     "execution_count": 1,
     "metadata": {},
     "output_type": "execute_result"
    }
   ],
   "source": [
    "\n",
    "import h2o\n",
    "from h2o.automl import H2OAutoML\n",
    "h2o.init(ip=\"localhost\", port=54323)\n",
    "\n",
    "df = h2o.import_file('train_u6lujuX_CVtuZ9i.csv')\n",
    "df.head()\n",
    "\n",
    "df1 = h2o.import_file('test_Y3wMUE5_7gLdaTN.csv')\n",
    "\n",
    "df.describe()\n",
    "\n",
    "df['Loan_Status'] = df['Loan_Status'].asfactor()\n",
    "\n",
    "y = \"Loan_Status\"\n",
    "x = ['Gender','Married','Education','ApplicantIncome',\n",
    "    'LoanAmount','CoapplicantIncome','Loan_Amount_Term',\n",
    "    'Credit_History','Property_Area']\n",
    "\n",
    "aml = H2OAutoML(max_models = 30, max_runtime_secs=120, seed = 1)\n",
    "aml.train(x = x, y = y, training_frame = df)\n",
    "\n",
    "lb = aml.leaderboard\n",
    "#lb.head()\n",
    "lb.head(rows=lb.nrows)\n",
    "\n",
    "preds = aml.predict(df1)\n",
    "\n",
    "h2o.save_model(aml.leader, path = \"./Loan_Pred_Model_III_shaz13\")"
   ]
  },
  {
   "cell_type": "code",
   "execution_count": null,
   "metadata": {},
   "outputs": [],
   "source": [
    "preds\n"
   ]
  }
 ],
 "metadata": {
  "kernelspec": {
   "display_name": "Python 2",
   "language": "python",
   "name": "python2"
  },
  "language_info": {
   "codemirror_mode": {
    "name": "ipython",
    "version": 2
   },
   "file_extension": ".py",
   "mimetype": "text/x-python",
   "name": "python",
   "nbconvert_exporter": "python",
   "pygments_lexer": "ipython2",
   "version": "2.7.14"
  }
 },
 "nbformat": 4,
 "nbformat_minor": 2
}
